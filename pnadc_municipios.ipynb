{
 "cells": [
  {
   "cell_type": "code",
   "execution_count": 13,
   "metadata": {},
   "outputs": [],
   "source": [
    "import csv\n",
    "import pandas as pd"
   ]
  },
  {
   "cell_type": "code",
   "execution_count": 14,
   "metadata": {},
   "outputs": [],
   "source": [
    "df = pd.read_csv('./data000000000000.csv')"
   ]
  },
  {
   "cell_type": "code",
   "execution_count": 15,
   "metadata": {},
   "outputs": [
    {
     "name": "stdout",
     "output_type": "stream",
     "text": [
      "       ano  id_municipio      sexo raca_cor  populacao\n",
      "0     2012       1100205     Total    Total   458000.0\n",
      "1     2012       1100205     Total   Branca   128000.0\n",
      "2     2012       1100205     Total    Preta    31000.0\n",
      "3     2012       1100205     Total    Parda   296000.0\n",
      "4     2012       1100205    Homens    Total   222000.0\n",
      "...    ...           ...       ...      ...        ...\n",
      "2587  2019       5300108    Homens    Parda   683000.0\n",
      "2588  2019       5300108  Mulheres    Total  1597000.0\n",
      "2589  2019       5300108  Mulheres   Branca   645000.0\n",
      "2590  2019       5300108  Mulheres    Preta   164000.0\n",
      "2591  2019       5300108  Mulheres    Parda   772000.0\n",
      "\n",
      "[2592 rows x 5 columns]\n"
     ]
    }
   ],
   "source": [
    "print(df)"
   ]
  },
  {
   "cell_type": "code",
   "execution_count": 18,
   "metadata": {},
   "outputs": [],
   "source": [
    "df_filtered1 = df[df.sexo.str.contains(\n",
    "    \"Total\") & df.raca_cor.str.contains(\"Total\")]\n",
    "df_filtered2 = df[df.sexo.str.contains(\n",
    "    \"Total\") & df.raca_cor.str.contains(\"Branca\")]\n",
    "df_filtered3 = df[df.sexo.str.contains(\n",
    "    \"Total\") & df.raca_cor.str.contains(\"Preta\")]\n",
    "df_filtered4 = df[df.sexo.str.contains(\n",
    "    \"Total\") & df.raca_cor.str.contains(\"Parda\")]\n",
    "\n",
    "df_filtered5 = df[df.sexo.str.contains(\n",
    "    \"Homens\") & df.raca_cor.str.contains(\"Total\")]\n",
    "df_filtered6 = df[df.sexo.str.contains(\n",
    "    \"Homens\") & df.raca_cor.str.contains(\"Branca\")]\n",
    "df_filtered7 = df[df.sexo.str.contains(\n",
    "    \"Homens\") & df.raca_cor.str.contains(\"Preta\")]\n",
    "df_filtered8 = df[df.sexo.str.contains(\n",
    "    \"Homens\") & df.raca_cor.str.contains(\"Parda\")]\n",
    "\n",
    "df_filtered9 = df[df.sexo.str.contains(\n",
    "    \"Mulheres\") & df.raca_cor.str.contains(\"Total\")]\n",
    "df_filtered10 = df[df.sexo.str.contains(\n",
    "    \"Mulheres\") & df.raca_cor.str.contains(\"Branca\")]\n",
    "df_filtered11 = df[df.sexo.str.contains(\n",
    "    \"Mulheres\") & df.raca_cor.str.contains(\"Preta\")]\n",
    "df_filtered12 = df[df.sexo.str.contains(\n",
    "    \"Mulheres\") & df.raca_cor.str.contains(\"Parda\")]\n"
   ]
  },
  {
   "cell_type": "code",
   "execution_count": null,
   "metadata": {},
   "outputs": [],
   "source": [
    "df_filtered1 = df_filtered1.drop(axis=1, columns=['sexo', 'raca_cor'])\n",
    "df_filtered2 = df_filtered2.drop(axis=1, columns=['sexo', 'raca_cor'])\n",
    "df_filtered3 = df_filtered3.drop(axis=1, columns=['sexo', 'raca_cor'])\n",
    "df_filtered4 = df_filtered4.drop(axis=1, columns=['sexo', 'raca_cor'])\n",
    "df_filtered5 = df_filtered5.drop(axis=1, columns=['sexo', 'raca_cor'])\n",
    "df_filtered6 = df_filtered6.drop(axis=1, columns=['sexo', 'raca_cor'])\n",
    "df_filtered7 = df_filtered7.drop(axis=1, columns=['sexo', 'raca_cor'])\n",
    "df_filtered8 = df_filtered8.drop(axis=1, columns=['sexo', 'raca_cor'])\n",
    "df_filtered9 = df_filtered9.drop(axis=1, columns=['sexo', 'raca_cor'])\n",
    "df_filtered10 = df_filtered10.drop(axis=1, columns=['sexo', 'raca_cor'])\n",
    "df_filtered11 = df_filtered11.drop(axis=1, columns=['sexo', 'raca_cor'])\n",
    "df_filtered12 = df_filtered12.drop(axis=1, columns=['sexo', 'raca_cor'])"
   ]
  },
  {
   "cell_type": "code",
   "execution_count": 21,
   "metadata": {},
   "outputs": [
    {
     "name": "stdout",
     "output_type": "stream",
     "text": [
      "      ano  id_municipio  pop_total  pop_total_branca\n",
      "0    2012       1100205   458000.0          128000.0\n",
      "1    2013       1100205   468000.0          122000.0\n",
      "2    2014       1100205   478000.0          102000.0\n",
      "3    2015       1100205   489000.0          110000.0\n",
      "4    2016       1100205   499000.0          108000.0\n",
      "..    ...           ...        ...               ...\n",
      "211  2015       5300108  2849000.0         1139000.0\n",
      "212  2016       5300108  2890000.0         1113000.0\n",
      "213  2017       5300108  2931000.0         1076000.0\n",
      "214  2018       5300108  2972000.0         1116000.0\n",
      "215  2019       5300108  3013000.0         1206000.0\n",
      "\n",
      "[216 rows x 4 columns]\n"
     ]
    }
   ],
   "source": [
    "df_merged = pd.merge(df_filtered1, df_filtered2, how='outer', on=['ano', 'id_municipio'])\n",
    "df_merged = df_merged.rename(columns={'populacao_x': 'pop_total', 'populacao_y': 'pop_total_brancos'})\n",
    "\n",
    "df_merged = pd.merge(df_merged, df_filtered3,\n",
    "                     how='outer', on=['ano', 'id_municipio'])\n",
    "df_merged = df_merged.rename(\n",
    "    columns={'populacao': 'pop_total_pretos'})\n",
    "\n",
    "df_merged = pd.merge(df_merged, df_filtered4,\n",
    "                     how='outer', on=['ano', 'id_municipio'])\n",
    "df_merged = df_merged.rename(\n",
    "    columns={'populacao': 'pop_total_pardos'})\n",
    "\n",
    "df_merged = pd.merge(df_merged, df_filtered5,\n",
    "                     how='outer', on=['ano', 'id_municipio'])\n",
    "df_merged = df_merged.rename(\n",
    "    columns={'populacao': 'pop_homens'})\n",
    "\n",
    "df_merged = pd.merge(df_merged, df_filtered6,\n",
    "                     how='outer', on=['ano', 'id_municipio'])\n",
    "df_merged = df_merged.rename(\n",
    "    columns={'populacao': 'pop_homens_brancos'})\n",
    "\n",
    "df_merged = pd.merge(df_merged, df_filtered7,\n",
    "                     how='outer', on=['ano', 'id_municipio'])\n",
    "df_merged = df_merged.rename(\n",
    "    columns={'populacao': 'pop_homens_pretos'})\n",
    "\n",
    "df_merged = pd.merge(df_merged, df_filtered8,\n",
    "                     how='outer', on=['ano', 'id_municipio'])\n",
    "df_merged = df_merged.rename(\n",
    "    columns={'populacao': 'pop_homens_pardos'})\n",
    "\n",
    "df_merged = pd.merge(df_merged, df_filtered9,\n",
    "                     how='outer', on=['ano', 'id_municipio'])\n",
    "df_merged = df_merged.rename(\n",
    "    columns={'populacao': 'pop_mulheres'})\n",
    "\n",
    "df_merged = pd.merge(df_merged, df_filtered10,\n",
    "                     how='outer', on=['ano', 'id_municipio'])\n",
    "df_merged = df_merged.rename(\n",
    "    columns={'populacao': 'pop_mulheres_brancas'})\n",
    "\n",
    "df_merged = pd.merge(df_merged, df_filtered11,\n",
    "                     how='outer', on=['ano', 'id_municipio'])\n",
    "df_merged = df_merged.rename(\n",
    "    columns={'populacao': 'pop_mulheres_pretas'})\n",
    "\n",
    "df_merged = pd.merge(df_merged, df_filtered12,\n",
    "                     how='outer', on=['ano', 'id_municipio'])\n",
    "df_merged = df_merged.rename(\n",
    "    columns={'populacao': 'pop_mulheres_pardas'})\n",
    "\n",
    "\n",
    "print(df_merged)"
   ]
  }
 ],
 "metadata": {
  "kernelspec": {
   "display_name": "Python 3.10.5 64-bit",
   "language": "python",
   "name": "python3"
  },
  "language_info": {
   "codemirror_mode": {
    "name": "ipython",
    "version": 3
   },
   "file_extension": ".py",
   "mimetype": "text/x-python",
   "name": "python",
   "nbconvert_exporter": "python",
   "pygments_lexer": "ipython3",
   "version": "3.10.5"
  },
  "orig_nbformat": 4,
  "vscode": {
   "interpreter": {
    "hash": "2881cb102472c0a2cc7b98c9f5b468e81049b20ea6d80c54eb33ba6f13a3277c"
   }
  }
 },
 "nbformat": 4,
 "nbformat_minor": 2
}
